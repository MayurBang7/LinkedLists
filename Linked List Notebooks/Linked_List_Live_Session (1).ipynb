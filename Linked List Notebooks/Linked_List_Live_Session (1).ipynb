{
 "cells": [
  {
   "cell_type": "markdown",
   "metadata": {
    "id": "ZKtScEbzDf_4"
   },
   "source": [
    "|                                     |                                      |\n",
    "| ---                                 | ---                                  |\n",
    "| <img src=\"http://drive.google.com/uc?export=view&id=1JzM1Jig5KAOCvU4tIf2t66B3gd1uy1rG\" width=200px> |<img src=\"http://drive.google.com/uc?export=view&id=1kMibD1EUis_6bwFtFIOgvUg22zEdROns\" width=200px>|\n",
    "\n",
    "Proprietary content. © Great Learning. All Rights Reserved. Unauthorized use or distribution prohibited."
   ]
  },
  {
   "cell_type": "markdown",
   "metadata": {
    "id": "UTxBZMhsDf_-",
    "tags": []
   },
   "source": [
    "# <font color='blue'> Table Of Contents </font>\n",
    "\n",
    "## <font color='blue'> Linked Lists </font>\n",
    "\n",
    "### <font color='blue'> What is a Linked list </font> \n",
    "\n",
    "### <font color='blue'> Types of linked lists and its operations </font>\n",
    "\n",
    "### <font color='blue'> Representation of linked list and its nodes    \n",
    "\n",
    "* Singly linked list </font>\n",
    "\n",
    "### <font color='blue'> Linked lists operations  \n",
    "* Insertion\n",
    "* Search (Linear)\n",
    "* Sort (Bubble)\n",
    "    \n",
    "</font>\n",
    "\n",
    "### <font color='blue'> Deletion of Linked List\n",
    "</font>\n",
    "\n",
    "\n",
    "### <font color='blue'> Practice Exercises \n",
    "* Finding nth node in the linked list\n",
    "</font>\n"
   ]
  },
  {
   "cell_type": "markdown",
   "metadata": {
    "id": "bS1qh-2FDf__"
   },
   "source": [
    "### <font color='blue'> What is linked list </font>"
   ]
  },
  {
   "cell_type": "markdown",
   "metadata": {
    "id": "Q25uRKZYDgAA"
   },
   "source": [
    "In computer science, a ***linked list*** is a ***linear collection*** of data elements whose ***order is not given by their physical placement*** in memory.   \n",
    "Instead, ***each element points to the next.***  *It is a data structure consisting of a collection of nodes which together represent a sequence.*  \n",
    "\n",
    "In its most basic form, ***each node*** contains: ***data, and a reference (a link) to the next node*** in the sequence.  \n",
    "This structure allows for ***efficient insertion*** or ***removal*** of elements from any position in the sequence during iteration.   \n",
    "More complex variants add additional links, allowing more efficient insertion or removal of nodes at arbitrary positions.   \n",
    "\n",
    "A ***drawback*** of linked lists is that ***access time is linear*** (and difficult to pipeline). Faster access, such as ***random access, is not feasible***. Arrays have better cache locality compared to linked lists.\n",
    "\n",
    "Linked lists are among the simplest and most common data structures. They can be used to implement several other common abstract data types, including lists, stacks, queues, though it is not uncommon to implement those data structures directly without using a linked list as the basis.  \n",
    "\n",
    "The ***principal benefit*** of a linked list ***over a conventional array*** is that the list ***elements*** can be ***easily inserted or removed without reallocation or reorganization*** of the entire structure because the data items need not be stored contiguously in memory or on disk, while restructuring an array at run-time is a much more expensive operation.  \n",
    "***Linked lists allow insertion and removal of nodes at any point in the list, and allow doing so with a constant number of operations*** by keeping the link previous to the link being added or removed in memory during list traversal.\n",
    "\n",
    "On the other hand, since simple ***linked lists*** by themselves ***do not allow random access to the data or any form of efficient indexing***, many basic operations such as obtaining the last node of the list, finding a node that contains a given datum, or locating the place where a new node should be inserted may require iterating through most or all of the list elements. \n",
    "\n",
    "<font color='blue' size=2> Source - Wikipedia </font>"
   ]
  },
  {
   "cell_type": "markdown",
   "metadata": {
    "id": "NuMPdFvBDgAB"
   },
   "source": [
    "### <font color='blue'> Types of linked lists and its operations </font>"
   ]
  },
  {
   "cell_type": "markdown",
   "metadata": {
    "id": "mK3v5SzbDgAC"
   },
   "source": [
    "The three different flavors of linked lists  \n",
    "***Singly Linked list,***  \n",
    "***Doubly Linked list*** and  \n",
    "***Circular linked list***  \n",
    "\n",
    "And the common operations that we do on linked lists are...  \n",
    "***Insertion***  \n",
    "***Deletion***  \n",
    "***Traversal***  \n",
    "***Searching***"
   ]
  },
  {
   "cell_type": "markdown",
   "metadata": {
    "id": "MCVOhtcyDgAD"
   },
   "source": [
    "### <font color='blue'> Representation of linked list and its nodes </font>"
   ]
  },
  {
   "cell_type": "markdown",
   "metadata": {
    "id": "Lsi9GvGkDgAD"
   },
   "source": [
    "## <font color='blue'> Singly linked list </font>"
   ]
  },
  {
   "cell_type": "markdown",
   "metadata": {
    "id": "jvjEGf6GDgAE"
   },
   "source": [
    "Singly linked lists contain nodes which have a data field as well as 'next' field, which points to the next node in line of nodes. Operations that can be performed on singly linked lists include insertion, deletion and traversal.  \n",
    "\n",
    "<font color='blue' size=2> Source - Wikipedia </font>"
   ]
  },
  {
   "cell_type": "markdown",
   "metadata": {
    "id": "wUDqKFrZDgAF"
   },
   "source": [
    "<img src=\"http://drive.google.com/uc?export=view&id=1EfF2w5niNP9EMF7xKFdEKnEvdeEK8INv\" width=750px>"
   ]
  },
  {
   "cell_type": "markdown",
   "metadata": {
    "id": "fbrjQEraDgAF"
   },
   "source": [
    "In the above figure...  \n",
    "***HEAD*** - references the starting point (first node) of a linked list.  \n",
    "***TAIL*** - references the end point (last node) of a linked list. A linked list may or may not have a *TAIL* in a list.  \n",
    "> The *next* of the *TAIL* is set to *None* which indicates that this is the last node of a list.  \n",
    "> In case of circular list the last node of a list refers to the first node of a list.\n",
    "\n",
    "***Node*** - each node represents two parts. ***Data*** part which contains the actual data and ***next*** that references the next in a linked list. In case of a doubly linked list each node has 2 reference ***prev*** and ***next*** that refers to a previous and next element of a list respectively. "
   ]
  },
  {
   "cell_type": "markdown",
   "metadata": {
    "id": "lTHQXWBsDgAK"
   },
   "source": [
    "#### <font color='blue'> Singly linked list</font>"
   ]
  },
  {
   "cell_type": "markdown",
   "metadata": {
    "id": "EqAfStaKDgAK"
   },
   "source": [
    "In the below code segment you will come across 2 more things. ***Enum*** and ***assert*** statement.   \n",
    "***Enum*** is used to represent constants. These are symbolic names bound to unique, constant values.  \n",
    "***assert*** statement is used to check whether a particular condition is True or not. If it is not, then the program execution stops."
   ]
  },
  {
   "cell_type": "code",
   "execution_count": 27,
   "metadata": {
    "id": "TGRlXldrDgAL"
   },
   "outputs": [],
   "source": [
    "class Node:\n",
    "    def __init__(self, data):\n",
    "        self.data = data\n",
    "        self.next = None"
   ]
  },
  {
   "cell_type": "code",
   "execution_count": 34,
   "metadata": {
    "id": "tBy-xGz8DgAM"
   },
   "outputs": [],
   "source": [
    "class LinkedList:\n",
    "    def __init__(self):\n",
    "        self.head = None\n",
    "        self.tail = None\n",
    "\n",
    "    def add_first_node_to_the_list(self, node_obj):\n",
    "        assert self.head is None, \"Invalid list\"\n",
    "        assert self.tail is None, \"Invalid list\"\n",
    "        self.head = node_obj\n",
    "        self.tail = node_obj\n",
    "\n",
    "    def add_node_in_the_end(self, node_obj):\n",
    "        assert self.tail, \"Invalid list\"\n",
    "        self.tail.next = node_obj\n",
    "        self.tail = node_obj\n",
    "    \n",
    "    def show_list(self):\n",
    "        print(\"The linked list elements are: \")\n",
    "        node = self.head\n",
    "        while node is not None:\n",
    "            print(node.data, end=\" \")\n",
    "            node = node.next\n",
    "           "
   ]
  },
  {
   "cell_type": "code",
   "execution_count": 36,
   "metadata": {
    "id": "u33NUjlFDgAM",
    "outputId": "83d24799-df63-4cdb-f591-430fa05490e6"
   },
   "outputs": [
    {
     "name": "stdout",
     "output_type": "stream",
     "text": [
      "\n",
      "Finding a number in the linked list: \n",
      "The searched number is not available in the linked list\n",
      "Linked List after completing the sorting: \n",
      "The linked list elements are: \n",
      "2 3 4 5 7 12 "
     ]
    }
   ],
   "source": [
    "single_list = LinkedList()\n",
    "\n",
    "single_list.add_first_node_to_the_list(Node(3))\n",
    "single_list.add_node_in_the_end(Node(2))\n",
    "single_list.add_node_in_the_end(Node(4))\n",
    "single_list.add_node_in_the_end(Node(7))\n",
    "single_list.add_node_in_the_end(Node(5))\n",
    "single_list.add_node_in_the_end(Node(12))\n",
    "print(\"\\nFinding a number in the linked list: \")\n",
    "if single_list.find(25):\n",
    "    print(\"The searched number is available in the linked list\")\n",
    "else: \n",
    "    print(\"The searched number is not available in the linked list\")\n",
    "    \n",
    "single_list.sort_list()\n",
    "print(\"Linked List after completing the sorting: \")\n",
    "single_list.show_list()"
   ]
  },
  {
   "cell_type": "markdown",
   "metadata": {},
   "source": [
    "### <font color='blue'> Operations </font>\n",
    "\n",
    "In the above implementation we saw how linked lists are implemented using Python. We also looked at the pictorial representation of the linked lists. \n",
    "\n",
    "Now as we know tha merely saving the data is not enough and we need to understand some ofthe additional operation over these linked lists. \n",
    "\n",
    "Two of the most common operations in the linked lists are: \n",
    "\n",
    "* Searching \n",
    "* Sorting\n",
    "\n",
    "We are going to learn the implementation of searching and sorting operation over thelinked list that is created. Lets first have a look at the searching operation and how it is implemented. \n",
    "\n",
    "#### <font color='blue'> Searching </font>"
   ]
  },
  {
   "cell_type": "code",
   "execution_count": null,
   "metadata": {},
   "outputs": [],
   "source": [
    "    def find(self, value): \n",
    "        current_node = self.head\n",
    "        while current_node is not None:\n",
    "            if current_node.data == value:\n",
    "                return True\n",
    "            current_node = current_node.next\n",
    "        return False"
   ]
  },
  {
   "cell_type": "markdown",
   "metadata": {},
   "source": [
    "In the above piece of code this is the process that we are doing: \n",
    "    \n",
    "    * When the find function will be called its expect two parameters with it the object and the value that we are looking for in the linked lists.\n",
    "    * If we look at the implementation; it has a dummy variable that holds the reference to the head/first node of the linked list. \n",
    "    * We know that the elelemnt can exist anywhere in the linked list and we need to traverse each node one by one. We are using while loop to move from one one node to another untill we reach to the last position. \n",
    "    * We are also using conditional statement to check if the given value is equal to the current_node.data. If the value matches then we can return True and value is available. \n",
    "    * else we need to keep on looking and once the loop is terminated we will return False, that signifies that the element is not available. "
   ]
  },
  {
   "cell_type": "markdown",
   "metadata": {},
   "source": [
    "#### <font color='blue'> Sorting </font>"
   ]
  },
  {
   "cell_type": "code",
   "execution_count": null,
   "metadata": {},
   "outputs": [],
   "source": [
    "    def bubble_sort(self):\n",
    "        swap_count = 0\n",
    "        if self.head != None:\n",
    "            while(1):\n",
    "                swap_count = 0\n",
    "                tmp = self.head\n",
    "                while(tmp.next != None):\n",
    "                    if tmp.data > tmp.next.data:\n",
    "                        # swap them\n",
    "                        swap_count += 1\n",
    "                        p = tmp.data\n",
    "                        tmp.data = tmp.next.data\n",
    "                        tmp.next.data = p\n",
    "                        tmp = tmp.next\n",
    "                    else:\n",
    "                        tmp = tmp.next\n",
    "\n",
    "                if swap_count == 0:\n",
    "                    break\n",
    "                else:\n",
    "                    continue\n",
    "            return self.head\n",
    "        else:\n",
    "            return self.head"
   ]
  },
  {
   "cell_type": "markdown",
   "metadata": {},
   "source": [
    "In the above piece of code we are doing the following things: \n",
    "    \n",
    "    * We are performing bubble sort on the linked list that is created. We are using the object that is available while creating the linked list. \n",
    "    * As we know that bubble sort works on the following priniciple\n",
    "        - Element with highest value will be placed at the last position, next iteration will place the second highest elelemnt at the second highest position and continued\n",
    "        - Above operation will take place till the time we have processed all the elements. \n",
    "        - To place the elements at appropriate position we need to swap the values. \n",
    "    * For linked lists as we know that we can not elements based on index hence swapping of two nodes happen with the help of extra variable of the same type. \n",
    "    * We have also kept a swap_counter which shows when the elements are sorted and signifies the number of swaps happening in each iteration for every value. "
   ]
  },
  {
   "cell_type": "markdown",
   "metadata": {},
   "source": [
    "### <font color='blue'> Deletion of Linked List </font>\n",
    "\n",
    "We have already seen how single nodes can be deleted from the linekd list based on the requirement. It is possible in real-time that once the linked list usage is completed we might need to delete all the elements from the linked list. This effectively means deleting the linked list. \n",
    "\n",
    "##### <font color='blue'> Myth </font> : Deletion of head or setting the head to None meand the linked list is deleted. \n",
    "\n",
    "Setting the head node to None means that other nodes are inaccessible but still consume the space. In order to delete the linked list we needto traverse and bvisit each node and set the node to None after mving head to the next Node. \n",
    "\n",
    "<img src=\"http://drive.google.com/uc?export=view&id=1Y0JOdtq62iFy8z5gdYkJdE_EaUx0_Fy_\" width=750px>\n",
    "\n",
    "Lets have a look at the code. \n",
    "\n"
   ]
  },
  {
   "cell_type": "code",
   "execution_count": null,
   "metadata": {},
   "outputs": [],
   "source": [
    "    def delete_linkedlist(self):\n",
    "        # Checking if head is already None\n",
    "        # if not assigning node to a temporray variable \n",
    "        # moving head to next node and setting  temporary variable to None.\n",
    "        while (self.head != None):\n",
    "            temp = self.head\n",
    "            self.head = self.head.next\n",
    "            temp = None\n",
    "            \n",
    "        print(\"Linked List is deleted successfully.\")  "
   ]
  },
  {
   "cell_type": "markdown",
   "metadata": {
    "id": "W6XkOnzmDgAU"
   },
   "source": [
    "### <font color='blue'> Practice Exercises </font>\n",
    "\n",
    "There are two problems in this assignment: \n",
    "\n",
    "1. Finding the kth last element in the linked list. Please find the more details below:\n",
    "       \n",
    "> Given a singly linked list with some random node values. Write a  method that should accept an integer k and find the kth last element in the created linked list.  \n",
    "> You also have to implement the two methods ```insert_node()``` and ```list_print()```. \n",
    "    "
   ]
  },
  {
   "cell_type": "markdown",
   "metadata": {
    "id": "GIkiYEACDgAU"
   },
   "source": [
    "### <font color='blue'> Practice Exercise 1 - Solution </font>"
   ]
  },
  {
   "cell_type": "code",
   "execution_count": null,
   "metadata": {
    "id": "LFpBIQSoDgAU",
    "outputId": "44808ae2-80d2-413b-8efe-0a6a4c4e5148"
   },
   "outputs": [
    {
     "name": "stdout",
     "output_type": "stream",
     "text": [
      "How many Nodes you want in the list: 5\n",
      "Elements in the linked list are: \n",
      "69-->62-->94-->58-->45-->None\n",
      "Enter the value of n: 2\n",
      "Node no. 2 from last is 58\n",
      "Enter the value of n: 1\n",
      "Node no. 1 from last is 45\n",
      "Enter the value of n: 4\n",
      "Node no. 4 from last is 62\n",
      "Enter the value of n: 6\n",
      "6 is greater than the no. of nodes in list\n"
     ]
    }
   ],
   "source": [
    "import random\n",
    "\n",
    "class Node:\n",
    "    def __init__(self, dataval=None):\n",
    "        self.data = dataval\n",
    "        self.next = None\n",
    "\n",
    "class SLinkedList:\n",
    "    def __init__(self):\n",
    "        self.head = None\n",
    "        \n",
    "    def insert_data(self, data):\n",
    "        new_node = Node(data)\n",
    "        \n",
    "        if self.head is None:\n",
    "            self.head = new_node\n",
    "        else:\n",
    "            curr = self.head\n",
    "            while(curr.next is not None):\n",
    "                curr = curr.next\n",
    "            curr.next = new_node\n",
    "\n",
    "    def listprint(self):\n",
    "        if self.head is None:\n",
    "            print(\"Linked list is empty.\")\n",
    "            return 0\n",
    "        else:\n",
    "            printval = self.head\n",
    "            print(\"Elements in the linked list are: \")\n",
    "            while printval is not None:\n",
    "                print(printval.data, end=\"-->\")\n",
    "                printval = printval.next\n",
    "            print(\"None\")\n",
    "            return 1\n",
    "\n",
    "    # method to find the nth element from the last node\n",
    "    def find_nth_from_end(self, n):\n",
    "        main_ptr = self.head\n",
    "        ref_ptr = self.head\n",
    "        \n",
    "        # maintaning a counter to traverse ref_ptr with one node\n",
    "        # loop will break once count will be equal to n\n",
    "        count = 0\n",
    "        if(self.head is not None):\n",
    "            while(count < n ):\n",
    "                # checking if ref_ptr is reached to the last node\n",
    "                if(ref_ptr is None):\n",
    "                    # Condition true means n given by user is greater than the number of elements in the linked list\n",
    "                    print(\"{} is greater than the no. of nodes in list\".format(n))\n",
    "                    return\n",
    "                # traversing the ref_ptr by one node\n",
    "                ref_ptr = ref_ptr.next\n",
    "                # incrementing the count\n",
    "                count += 1\n",
    "\n",
    "        # checking if all the nodes in linked lists are traversed \n",
    "        if(ref_ptr is None):\n",
    "            self.head = self.head.next\n",
    "            # boundary case\n",
    "            if(self.head is not None):\n",
    "                print(\"Node no. {} from last is {}\".format(n, main_ptr.data))\n",
    "        else:\n",
    "            # main case traversing main and ref node by one \n",
    "            # this loop will ensure that whe ref node is at the last node\n",
    "            # main node will be pointing to the nth last node of the given linked list\n",
    "            while(ref_ptr is not None):\n",
    "                main_ptr = main_ptr.next\n",
    "                ref_ptr = ref_ptr.next\n",
    "            print(\"Node no. {} from last is {}\".format(n, main_ptr.data))\n",
    "\n",
    "# do not edit anything\n",
    "if __name__ == \"__main__\":\n",
    "    List = SLinkedList()\n",
    "    total_nodes = int(input(\"How many Nodes you want in the list: \"))\n",
    "    for node in range(total_nodes):\n",
    "        data = random.randint(1,100)\n",
    "        List.insert_data(data)\n",
    "    List.listprint()\n",
    "    n = int(input(\"Enter the value of n: \"))\n",
    "    List.find_nth_from_end(n)\n",
    "    n = int(input(\"Enter the value of n: \"))\n",
    "    List.find_nth_from_end(n)\n",
    "    n = int(input(\"Enter the value of n: \"))\n",
    "    List.find_nth_from_end(n)\n",
    "    n = int(input(\"Enter the value of n: \"))\n",
    "    List.find_nth_from_end(n)"
   ]
  }
 ],
 "metadata": {
  "colab": {
   "name": "M01-W07-Linked List-Notes-Main.ipynb",
   "provenance": []
  },
  "kernelspec": {
   "display_name": "Python 3",
   "language": "python",
   "name": "python3"
  },
  "language_info": {
   "codemirror_mode": {
    "name": "ipython",
    "version": 3
   },
   "file_extension": ".py",
   "mimetype": "text/x-python",
   "name": "python",
   "nbconvert_exporter": "python",
   "pygments_lexer": "ipython3",
   "version": "3.8.5"
  }
 },
 "nbformat": 4,
 "nbformat_minor": 1
}
